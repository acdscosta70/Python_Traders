{
 "cells": [
  {
   "cell_type": "code",
   "execution_count": 1,
   "id": "842c1968",
   "metadata": {},
   "outputs": [
    {
     "name": "stdout",
     "output_type": "stream",
     "text": [
      "Requirement already satisfied: MetaTrader5 in c:\\users\\arthur\\anaconda3\\lib\\site-packages (5.0.37)\n",
      "Requirement already satisfied: numpy>=1.7 in c:\\users\\arthur\\anaconda3\\lib\\site-packages (from MetaTrader5) (1.22.3)\n",
      "Note: you may need to restart the kernel to use updated packages.\n"
     ]
    }
   ],
   "source": [
    "pip install MetaTrader5"
   ]
  },
  {
   "cell_type": "code",
   "execution_count": 2,
   "id": "d4bf1a07",
   "metadata": {},
   "outputs": [],
   "source": [
    "import MetaTrader5 as mt5"
   ]
  },
  {
   "cell_type": "code",
   "execution_count": 3,
   "id": "6db9ed4a",
   "metadata": {},
   "outputs": [
    {
     "data": {
      "text/plain": [
       "True"
      ]
     },
     "execution_count": 3,
     "metadata": {},
     "output_type": "execute_result"
    }
   ],
   "source": [
    "mt5.initialize()"
   ]
  },
  {
   "cell_type": "code",
   "execution_count": 4,
   "id": "3d511314",
   "metadata": {},
   "outputs": [
    {
     "name": "stdout",
     "output_type": "stream",
     "text": [
      "Collecting backtrader\n",
      "  Downloading backtrader-1.9.76.123-py2.py3-none-any.whl (410 kB)\n",
      "Installing collected packages: backtrader\n",
      "Successfully installed backtrader-1.9.76.123\n",
      "Note: you may need to restart the kernel to use updated packages.\n"
     ]
    }
   ],
   "source": [
    "pip install backtrader"
   ]
  },
  {
   "cell_type": "code",
   "execution_count": 5,
   "id": "914ac479",
   "metadata": {},
   "outputs": [],
   "source": [
    "import backtrader as bt"
   ]
  },
  {
   "cell_type": "code",
   "execution_count": 6,
   "id": "3257cf80",
   "metadata": {},
   "outputs": [
    {
     "data": {
      "text/plain": [
       "'1.9.76.123'"
      ]
     },
     "execution_count": 6,
     "metadata": {},
     "output_type": "execute_result"
    }
   ],
   "source": [
    "bt.__version__"
   ]
  },
  {
   "cell_type": "code",
   "execution_count": 7,
   "id": "a5123acd",
   "metadata": {},
   "outputs": [
    {
     "name": "stdout",
     "output_type": "stream",
     "text": [
      "Requirement already satisfied: backtrader in c:\\users\\arthur\\anaconda3\\lib\\site-packages (1.9.76.123)\n"
     ]
    }
   ],
   "source": [
    "!pip install backtrader --upgrade"
   ]
  },
  {
   "cell_type": "code",
   "execution_count": null,
   "id": "3e6b1c16",
   "metadata": {},
   "outputs": [],
   "source": []
  }
 ],
 "metadata": {
  "kernelspec": {
   "display_name": "Python 3 (ipykernel)",
   "language": "python",
   "name": "python3"
  },
  "language_info": {
   "codemirror_mode": {
    "name": "ipython",
    "version": 3
   },
   "file_extension": ".py",
   "mimetype": "text/x-python",
   "name": "python",
   "nbconvert_exporter": "python",
   "pygments_lexer": "ipython3",
   "version": "3.9.7"
  }
 },
 "nbformat": 4,
 "nbformat_minor": 5
}
